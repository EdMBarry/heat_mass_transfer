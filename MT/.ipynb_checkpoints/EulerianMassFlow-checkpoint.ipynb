{
 "cells": [
  {
   "cell_type": "markdown",
   "metadata": {},
   "source": [
    "# Derivation of diffusive and convective mass transfer\n",
    "\n",
    "This exercise has come about because of a question asking what the difference between **J<sub>A** and **N<sub>A** was for a species $A$ in species $B$."
   ]
  },
  {
   "cell_type": "markdown",
   "metadata": {
    "collapsed": true
   },
   "source": [
    "## Definitions and basis for derivation\n",
    "\n",
    "We will derive the expressions with basis of quantity (mol), all in SI units.\n",
    "\n",
    "### Molar diffusive flux\n",
    "\n",
    "The molar diffusive flux (**J<sub>A**) is effectively the motion of $A$ relative to the mixture motion. If the motion of the mixture is `(0 0 0) <- (Ux Uy Uz)`, then it will be the molecular motion relative to a static body. The diffusive flux can be expressed as the following:\n",
    "\n",
    "$$J_A = -D_{AB}\\frac{\\partial C_A}{dz}$$\n",
    "\n",
    "The units are as follows:\n",
    "\n",
    "$D_{AB}$:   $[m^2 s^{-1}]$\n",
    "\n",
    "$C_A$:      $[mol\\, m^{-3}]$\n",
    "\n",
    "$z$:        $[m]$\n",
    "\n",
    "$\\therefore \\mathbf{J_A}$:     $[mol\\, m^{-2} s^{-1}]$"
   ]
  },
  {
   "cell_type": "markdown",
   "metadata": {},
   "source": [
    "### Total molar flux\n",
    "\n",
    "$\\mathbf{N_A}$ is the total molar flux of species A in B. It is defined as follows:\n",
    "\n",
    "$$\\mathbf{N_A} = c \\cdot x_A \\cdot \\mathbf{U_A}$$"
   ]
  },
  {
   "cell_type": "code",
   "execution_count": null,
   "metadata": {
    "collapsed": true
   },
   "outputs": [],
   "source": []
  }
 ],
 "metadata": {
  "kernelspec": {
   "display_name": "Python 3",
   "language": "python",
   "name": "python3"
  },
  "language_info": {
   "codemirror_mode": {
    "name": "ipython",
    "version": 3
   },
   "file_extension": ".py",
   "mimetype": "text/x-python",
   "name": "python",
   "nbconvert_exporter": "python",
   "pygments_lexer": "ipython3",
   "version": "3.6.5"
  }
 },
 "nbformat": 4,
 "nbformat_minor": 2
}
